{
  "nbformat": 4,
  "nbformat_minor": 0,
  "metadata": {
    "colab": {
      "name": "SVM_analysis_Xianhui.ipynb",
      "provenance": [],
      "collapsed_sections": []
    },
    "kernelspec": {
      "name": "python3",
      "display_name": "Python 3"
    },
    "language_info": {
      "name": "python"
    }
  },
  "cells": [
    {
      "cell_type": "markdown",
      "source": [
        "## Basic"
      ],
      "metadata": {
        "id": "Vss48RplVZZi"
      }
    },
    {
      "cell_type": "code",
      "source": [
        "# @title This analysis is done by Xianhui He, 29/07/2022\n",
        "# @markdown contact me by xhhe.psy@gmail.com"
      ],
      "metadata": {
        "cellView": "form",
        "id": "XKF7VUk-V2UU"
      },
      "execution_count": 2,
      "outputs": []
    },
    {
      "cell_type": "code",
      "source": [
        "# @title Data retrieval\n",
        "import os, requests\n",
        "\n",
        "fname = 'motor_imagery.npz'\n",
        "url = \"https://osf.io/ksqv8/download\"\n",
        "\n",
        "if not os.path.isfile(fname):\n",
        "  try:\n",
        "    r = requests.get(url)\n",
        "  except requests.ConnectionError:\n",
        "    print(\"!!! Failed to download data !!!\")\n",
        "  else:\n",
        "    if r.status_code != requests.codes.ok:\n",
        "      print(\"!!! Failed to download data !!!\")\n",
        "    else:\n",
        "      with open(fname, \"wb\") as fid:\n",
        "        fid.write(r.content)"
      ],
      "metadata": {
        "cellView": "form",
        "id": "CGcaWWzB_Y7M"
      },
      "execution_count": 1,
      "outputs": []
    },
    {
      "cell_type": "code",
      "source": [
        "# @title import `matplotlib` `sklearn` and set defaults\n",
        "# install packages to visualize brains and electrode locations\n",
        "\n",
        "!pip install mne --quiet\n",
        "\n",
        "from matplotlib import rcParams\n",
        "from matplotlib import pyplot as plt\n",
        "import sklearn\n",
        "\n",
        "from sklearn.model_selection import LeaveOneOut\n",
        "from sklearn.model_selection import cross_val_score\n",
        "from sklearn import svm\n",
        "\n",
        "import scipy\n",
        "from scipy import stats\n",
        "from scipy import signal\n",
        "\n",
        "import random\n",
        "\n",
        "rcParams['figure.figsize'] = [20, 4]\n",
        "rcParams['font.size'] = 15\n",
        "rcParams['axes.spines.top'] = False\n",
        "rcParams['axes.spines.right'] = False\n",
        "rcParams['figure.autolayout'] = True"
      ],
      "metadata": {
        "id": "4Zy1bYsD_aFH",
        "colab": {
          "base_uri": "https://localhost:8080/"
        },
        "outputId": "bfce40ab-a7fc-42ee-8e90-4b63bc087b79",
        "cellView": "form"
      },
      "execution_count": 3,
      "outputs": [
        {
          "output_type": "stream",
          "name": "stdout",
          "text": [
            "\u001b[K     |████████████████████████████████| 7.5 MB 4.3 MB/s \n",
            "\u001b[?25h"
          ]
        }
      ]
    },
    {
      "cell_type": "markdown",
      "source": [
        "## SVM pipeline"
      ],
      "metadata": {
        "id": "81ylaKVmWK5m"
      }
    },
    {
      "cell_type": "code",
      "execution_count": 4,
      "metadata": {
        "colab": {
          "base_uri": "https://localhost:8080/"
        },
        "cellView": "form",
        "id": "zUKxvog4WIVV",
        "outputId": "faffc43a-bd06-4c23-809f-b4222610224b"
      },
      "outputs": [
        {
          "output_type": "stream",
          "name": "stdout",
          "text": [
            "dict_keys(['t_off', 'stim_id', 't_on', 'srate', 'V', 'scale_uv', 'locs', 'hemisphere', 'lobe', 'gyrus', 'Brodmann_Area'])\n"
          ]
        }
      ],
      "source": [
        "# @title Data loading\n",
        "import numpy as np\n",
        "\n",
        "alldat = np.load(fname, allow_pickle=True)['dat']\n",
        "\n",
        "print(alldat[1][0].keys())"
      ]
    },
    {
      "cell_type": "code",
      "source": [
        "# @title select ROI channels\n",
        "electrode_indexes = []\n",
        "electrode_indexes.append([])\n",
        "electrode_indexes.append([])\n",
        "\n",
        "for subject_index, subject in enumerate(alldat):\n",
        "  electrode_indexes[0].append([])\n",
        "  electrode_indexes[1].append([])\n",
        "  for gyrus_index, gyrus in enumerate(subject[0]['gyrus']):\n",
        "    if gyrus == 'Precentral Gyrus':\n",
        "      electrode_indexes[0][subject_index].append(gyrus_index)\n",
        "    elif gyrus == 'Postcentral Gyrus':\n",
        "      electrode_indexes[1][subject_index].append(gyrus_index)\n",
        "\n",
        "# electrode_indexes: n_roi (0: Precentral gyrus; 1: Postcentral gyrus) * n_subs "
      ],
      "metadata": {
        "id": "IwFZ72IyAqTe",
        "cellView": "form"
      },
      "execution_count": 5,
      "outputs": []
    },
    {
      "cell_type": "code",
      "source": [
        "# @title function: get data & label for all ROI\n",
        "\n",
        "def get_data_label_allroi(sub_ID, condi_ID, time_ID, band_limit):\n",
        "  # Input:\n",
        "    # sub_ID: 0-6\n",
        "    # condi_ID: 0 refers to actual movement, 1 refers to imagery movement\n",
        "    # time_ID: 0 refers to the first second, 1 refers to the sencond second\n",
        "    # band_limit: band pass filter parameters, for example, input [8, 12] to obtain alpha power\n",
        "\n",
        "  # output:\n",
        "    # data: n_trials * n_features power matrix\n",
        "    # label: n_trials label array\n",
        "\n",
        "  from scipy import signal\n",
        "\n",
        "  dat = alldat[sub_ID][condi_ID] \n",
        "\n",
        "  ele_used = np.concatenate((electrode_indexes[0][sub_ID],electrode_indexes[1][sub_ID]), axis=0)\n",
        "\n",
        "  # filter the data\n",
        "  # V is the voltage data\n",
        "  V = dat['V'].astype('float32')\n",
        "  V = V[:, ele_used]\n",
        "\n",
        "  # low-pass filter below band_limit[1] Hz\n",
        "  b, a = signal.butter(3, band_limit[1], btype='low', fs=1000)\n",
        "  V = signal.filtfilt(b, a, V, 0)\n",
        "\n",
        "  # high-pass filter above band_limit[0] Hz\n",
        "  b, a = signal.butter(3, band_limit[0], btype='high', fs=1000)\n",
        "  V = signal.filtfilt(b, a, V, 0)\n",
        "\n",
        "  # calculate the power (hilbert)\n",
        "  V_tmp = signal.hilbert(V) # 8-12\n",
        "  V = np.abs(V_tmp) ** 2\n",
        "\n",
        "  # data reconstruction into different epochs \n",
        "  nt, nchan = V.shape\n",
        "  nstim = len(dat['t_on'])\n",
        "\n",
        "  trange = np.arange(0, 2000)\n",
        "  ts = dat['t_on'][:, np.newaxis]\n",
        "\n",
        "  ts = ts + trange\n",
        "\n",
        "  V_epochs = np.reshape(V[ts, :], (nstim, 2000, nchan))\n",
        "\n",
        "  # average every 20 ms to obtain 50 time points for each channel\n",
        "  data = np.empty((nstim,0),int)\n",
        "\n",
        "  for it in range(50):\n",
        "    V_epochs_tmp = V_epochs[:, [it * 20 + time_ID * 1000, (it + 1) * 20 - 1 + time_ID * 1000], :]\n",
        "    data_tmp = np.mean(V_epochs_tmp, 1)\n",
        "    data = np.hstack((data, data_tmp))\n",
        "\n",
        "  label = dat['stim_id']\n",
        "\n",
        "  return data, label"
      ],
      "metadata": {
        "id": "frTK-wHLbHR_",
        "cellView": "form"
      },
      "execution_count": 6,
      "outputs": []
    },
    {
      "cell_type": "code",
      "source": [
        "# @title function: SVM classifier training, leave-one-trial-out cross-validation and generalization\n",
        "\n",
        "def train_svm(sub_ID, condi_ID, time_ID, band_limit):\n",
        "\n",
        "  # Input:\n",
        "    # sub_ID: 0-6\n",
        "    # condi_ID: 0 refers to actual movement, 1 refers to imagery movement\n",
        "    # time_ID: 0 refers to the first second, 1 refers to the sencond second\n",
        "    # band_limit: band pass filter parameters, for example, input [8, 12] to obtain alpha power\n",
        "\n",
        "  # output:\n",
        "    # test_acc: cross-validation performance of the SVM\n",
        "    # training_acc: training performance of the SVM\n",
        "    # gen_acc: generalization performance of the SVM\n",
        "\n",
        "  data, label = get_data_label_allroi(sub_ID, condi_ID, time_ID, band_limit)\n",
        "\n",
        "  # create arrays for each trial\n",
        "  test_accuracies = np.ones(60)\n",
        "  train_accuracies = np.ones(60)\n",
        "\n",
        "  # split the data (leave-one-trial-out) \n",
        "  loo = LeaveOneOut()\n",
        "  loo.get_n_splits(data)\n",
        "\n",
        "  # train and test the classifier\n",
        "  for train_index, test_index in loo.split(data):\n",
        "    classifier = svm.SVC(C = 1, kernel = 'linear')\n",
        "    classifier.fit(data[train_index], label[train_index])\n",
        "\n",
        "    train_accuracies[test_index] = classifier.score(data[train_index], label[train_index])\n",
        "    test_accuracies[test_index] = classifier.score(data[test_index], label[test_index])\n",
        "\n",
        "  # generalization\n",
        "  gen_data, gen_label = get_data_label_allroi(sub_ID, 1-condi_ID, time_ID, band_limit)\n",
        "  \n",
        "  classifier = svm.SVC(C = 1, kernel = 'linear')\n",
        "  classifier.fit(data, label)\n",
        "  gen_acc = classifier.score(gen_data, gen_label)\n",
        "\n",
        "  return test_accuracies.mean(), train_accuracies.mean(), gen_acc\n"
      ],
      "metadata": {
        "cellView": "form",
        "id": "9Ub8VMCxb0jn"
      },
      "execution_count": 11,
      "outputs": []
    },
    {
      "cell_type": "code",
      "source": [
        "# @title calculation and showing the group average results\n",
        "\n",
        "# for example sub\n",
        "# sub_ID : 0-6\n",
        "# condi_ID : 0 actual; 1 imagery\n",
        "# time_ID : 0 0-999; 1 1000-1999\n",
        "\n",
        "# basic setting\n",
        "band_limit = [13, 30]\n",
        "band_name = 'beta band';\n",
        "\n",
        "test_acc = np.ones(shape=(2,7,2))\n",
        "train_acc = np.ones(shape=(2,7,2))\n",
        "gen_acc = np.ones(shape=(2,7,2))\n",
        "\n",
        "condi_name = ['actual', 'imagery']\n",
        "gen_name = ['actual→imagery', 'imagery→actual']\n",
        "\n",
        "for itime in range(2):\n",
        "  for icondi in range(2):\n",
        "    for isub in range(7):\n",
        "     test_acc[itime][isub][icondi], train_acc[itime][isub][icondi], gen_acc[itime][isub][icondi]= train_svm(isub, icondi, itime, band_limit)\n",
        "\n",
        "    print(\"time: \", itime, \"-\", itime + 1, \"s\")\n",
        "    print(\"training score: \", condi_name[icondi], np.mean(train_acc[itime, :, icondi], 0))\n",
        "    print(\"cross-validation score: \", condi_name[icondi], np.mean(acc[itime, :, icondi], 0))\n",
        "    print(\"generalization score: \", gen_name[icondi], np.mean(gen_acc[itime, :, icondi], 0))\n"
      ],
      "metadata": {
        "colab": {
          "base_uri": "https://localhost:8080/"
        },
        "id": "sb8Svu8Sd8ED",
        "outputId": "26c5e31c-3579-4dec-d581-82d303e101c9",
        "cellView": "form"
      },
      "execution_count": 12,
      "outputs": [
        {
          "output_type": "stream",
          "name": "stdout",
          "text": [
            "time:  0 - 1 s\n",
            "training score:  actual 0.9660613397901533\n",
            "cross-validation score:  actual 1.0\n",
            "generalization score:  actual→imagery 0.5285714285714286\n",
            "time:  0 - 1 s\n",
            "training score:  imagery 0.9644874899112187\n",
            "cross-validation score:  imagery 1.0\n",
            "generalization score:  imagery→actual 0.5428571428571429\n",
            "time:  1 - 2 s\n",
            "training score:  actual 0.9618240516545601\n",
            "cross-validation score:  actual 1.0\n",
            "generalization score:  actual→imagery 0.5666666666666667\n",
            "time:  1 - 2 s\n",
            "training score:  imagery 0.9457223567393059\n",
            "cross-validation score:  imagery 1.0\n",
            "generalization score:  imagery→actual 0.5976190476190475\n"
          ]
        }
      ]
    },
    {
      "cell_type": "code",
      "source": [
        "#@title Run to plot out test accuracy scores.\n",
        "#@markdown \n",
        "condi_name = ['actual', 'imagery']\n",
        "time_name = ['0-2s']\n",
        "color_name = ['salmon', 'lightsalmon', 'deepskyblue', 'lightskyblue']\n",
        "\n",
        "f, ax = plt.subplots(nrows=1, ncols=1, figsize = (5,5))\n",
        "    \n",
        "for itime in range(2):\n",
        "  for icondi in range(2):\n",
        "    y = np.mean(test_acc[itime, :, icondi], 0)\n",
        "    yerr = np.std(test_acc[itime, :, icondi], 0) * 1.96 / np.sqrt(7)\n",
        "\n",
        "    scatter_x = np.ones((7))\n",
        "    for isub in range(7):\n",
        "      scatter_x[isub] = itime + icondi * 3 + 1 + random.randint(-20, 20)/100\n",
        "\n",
        "    ax.errorbar(itime + icondi * 3 + 1, y, yerr = yerr, ecolor = 'k', elinewidth = 0.5,\n",
        "                marker = 's', mfc = color_name[icondi * 2], mec = 'k', mew = 1, ms = 10,\n",
        "                capsize = 5, capthick = 3, \n",
        "                label = condi_name[icondi])\n",
        "    ax.scatter(scatter_x, test_acc[itime, :, icondi], c = color_name[icondi * 2])\n",
        "\n",
        "    t, p = stats.ttest_1samp(test_acc[itime, :, icondi], 0.5)\n",
        "\n",
        "    if p >0.1:\n",
        "      plt.text(itime + icondi * 3 + 1, 0.9, 'n.s.', horizontalalignment='center')\n",
        "    elif p < 0.1 and p > 0.05:\n",
        "      plt.text(itime + icondi * 3 + 1, 0.9, '+', c='r', horizontalalignment='center')\n",
        "    elif p < 0.05 and p > 0.01:\n",
        "      plt.text(itime + icondi * 3 + 1, 0.9, '*', c='r', horizontalalignment='center')\n",
        "    elif p < 0.01 and p > 0.001:\n",
        "      plt.text(itime + icondi * 3 + 1, 0.9, '**', c='r', horizontalalignment='center')\n",
        "    elif p < 0.001:\n",
        "      plt.text(itime + icondi * 3 + 1, 0.9, '***', c='r', horizontalalignment='center')\n",
        "    \n",
        "ax.set(\n",
        "  yticks=[0, 0.25, 0.5, 0.75, 1],\n",
        "  xlim=(0, 6),\n",
        "  ylim=(0, 1),\n",
        "  ylabel='Accuracy'\n",
        ")\n",
        "plt.xticks([1, 2, 4, 5], ['0-1s', '1-2s', '0-1s', '1-2s'])\n",
        "   \n",
        "plt.hlines(0.5, 0, 6, colors='k', linestyles='dashed')\n",
        "\n",
        "plt.legend(condi_name, loc=1, bbox_to_anchor=(0.95, 1.2), ncol =2)\n",
        "title = \"classifier performance (%s)\" % band_name\n",
        "plt.suptitle(title, x=0.6, y=1.1)\n",
        "plt.show()"
      ],
      "metadata": {
        "colab": {
          "base_uri": "https://localhost:8080/",
          "height": 411
        },
        "id": "yNIhx9ooNgNS",
        "outputId": "a670287c-fdad-48ef-d2cb-48b268ab38ba",
        "cellView": "form"
      },
      "execution_count": 14,
      "outputs": [
        {
          "output_type": "display_data",
          "data": {
            "text/plain": [
              "<Figure size 360x360 with 1 Axes>"
            ],
            "image/png": "[encoded data removed]"
          },
          "metadata": {
            "needs_background": "light"
          }
        }
      ]
    },
    {
      "cell_type": "code",
      "source": [
        "#@title Run to plot out generalization accuracy scores.\n",
        "#@markdown \n",
        "condi_name = ['actual→imagery', 'imagery→actual']\n",
        "time_name = ['0-2s']\n",
        "color_name = ['salmon', 'lightsalmon', 'deepskyblue', 'lightskyblue']\n",
        "\n",
        "f, ax = plt.subplots(nrows=1, ncols=1, figsize = (5,5))\n",
        "    \n",
        "for itime in range(2):\n",
        "  for icondi in range(2):\n",
        "    y = np.mean(gen_acc[itime, :, icondi], 0)\n",
        "    yerr = np.std(gen_acc[itime, :, icondi], 0) * 1.96 / np.sqrt(7)\n",
        "\n",
        "    scatter_x = np.ones((7))\n",
        "    for isub in range(7):\n",
        "      scatter_x[isub] = itime + icondi * 3 + 1 + random.randint(-20, 20)/100\n",
        "\n",
        "    ax.errorbar(itime + icondi * 3 + 1, y, yerr = yerr, ecolor = 'k', elinewidth = 0.5,\n",
        "                marker = 's', mfc = color_name[icondi * 2], mec = 'k', mew = 1, ms = 10,\n",
        "                capsize = 5, capthick = 3, \n",
        "                label = condi_name[icondi])\n",
        "    ax.scatter(scatter_x, gen_acc[itime, :, icondi], c = color_name[icondi * 2])\n",
        "    t, p = stats.ttest_1samp(gen_acc[itime, :, icondi], 0.5)\n",
        "\n",
        "    if p >0.1:\n",
        "      plt.text(itime + icondi * 3 + 1, 0.9, 'n.s.', horizontalalignment='center')\n",
        "    elif p < 0.1 and p > 0.05:\n",
        "      plt.text(itime + icondi * 3 + 1, 0.9, '+', c='r', horizontalalignment='center')\n",
        "    elif p < 0.05 and p > 0.01:\n",
        "      plt.text(itime + icondi * 3 + 1, 0.9, '*', c='r', horizontalalignment='center')\n",
        "    elif p < 0.01 and p > 0.001:\n",
        "      plt.text(itime + icondi * 3 + 1, 0.9, '**', c='r', horizontalalignment='center')\n",
        "    elif p < 0.001:\n",
        "      plt.text(itime + icondi * 3 + 1, 0.9, '***', c='r', horizontalalignment='center')\n",
        "    \n",
        "ax.set(\n",
        "  yticks=[0.25, 0.5, 0.75, 1],\n",
        "  xlim=(0, 6),\n",
        "  ylim=(0.2, 1),\n",
        "  ylabel='Accuracy'\n",
        ")\n",
        "plt.xticks([1, 2, 4, 5], ['0-1s', '1-2s', '0-1s', '1-2s'])\n",
        "   \n",
        "plt.hlines(0.5, 0, 6, colors='k', linestyles='dashed')\n",
        "\n",
        "plt.legend(condi_name, loc=1, bbox_to_anchor=(0.85, 1.2))\n",
        "title = \"generalization (%s)\" % band_name\n",
        "plt.suptitle(title, x=0.58, y=1.05)\n",
        "plt.show()"
      ],
      "metadata": {
        "colab": {
          "base_uri": "https://localhost:8080/",
          "height": 393
        },
        "id": "pH_FLafmQNX3",
        "outputId": "d14516b8-f48c-4596-9ddc-78dd77216020",
        "cellView": "form"
      },
      "execution_count": null,
      "outputs": [
        {
          "output_type": "display_data",
          "data": {
            "text/plain": [
              "<Figure size 360x360 with 1 Axes>"
            ],
            "image/png": "[encoded data removed]"
          },
          "metadata": {
            "needs_background": "light"
          }
        }
      ]
    }
  ]
}