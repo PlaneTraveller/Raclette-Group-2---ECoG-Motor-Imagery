{
  "nbformat": 4,
  "nbformat_minor": 0,
  "metadata": {
    "colab": {
      "name": "time_frequency_analysis_Xianhui",
      "provenance": [],
      "collapsed_sections": []
    },
    "kernelspec": {
      "name": "python3",
      "display_name": "Python 3"
    },
    "language_info": {
      "name": "python"
    }
  },
  "cells": [
    {
      "cell_type": "code",
      "source": [
        "# Boring Stuffs, JK It's Important, Download Dataset\n",
        "\n",
        "import os, requests\n",
        "\n",
        "fname = 'motor_imagery.npz'\n",
        "url = \"https://osf.io/ksqv8/download\"\n",
        "\n",
        "if not os.path.isfile(fname):\n",
        "  try:\n",
        "    r = requests.get(url)\n",
        "  except requests.ConnectionError:\n",
        "    print(\"!!! Failed to download data !!!\")\n",
        "  else:\n",
        "    if r.status_code != requests.codes.ok:\n",
        "      print(\"!!! Failed to download data !!!\")\n",
        "    else:\n",
        "      with open(fname, \"wb\") as fid:\n",
        "        fid.write(r.content)"
      ],
      "metadata": {
        "id": "78yWg6jAFg5O"
      },
      "execution_count": null,
      "outputs": []
    },
    {
      "cell_type": "code",
      "source": [
        "# Install Non-Built-In Packages\n",
        "\n",
        "!pip install mne --quiet"
      ],
      "metadata": {
        "id": "4FkPd4nHHKsH",
        "colab": {
          "base_uri": "https://localhost:8080/"
        },
        "outputId": "46233ca2-fe54-4a8b-f009-eef6fde27b96"
      },
      "execution_count": null,
      "outputs": [
        {
          "output_type": "stream",
          "name": "stdout",
          "text": [
            "\u001b[K     |████████████████████████████████| 7.5 MB 4.6 MB/s \n",
            "\u001b[?25h"
          ]
        }
      ]
    },
    {
      "cell_type": "code",
      "execution_count": null,
      "metadata": {
        "id": "WOOcJLiJEBm3"
      },
      "outputs": [],
      "source": [
        "# Import Stuffs (Packages)\n",
        "\n",
        "import numpy as np\n",
        "from matplotlib import pyplot as plt\n",
        "from scipy import signal\n",
        "\n",
        "import mne\n",
        "from mne import create_info, EpochsArray\n",
        "from mne.io import RawArray\n",
        "from mne.baseline import rescale\n",
        "from mne.time_frequency import (tfr_multitaper, tfr_stockwell, tfr_morlet, tfr_array_morlet)\n",
        "from mne.viz import centers_to_edges\n",
        "\n",
        "from matplotlib import rcParams\n",
        "from matplotlib import pyplot as plt"
      ]
    },
    {
      "cell_type": "code",
      "source": [
        "# Load Dataset\n",
        "\n",
        "alldat = np.load(fname, allow_pickle=True)['dat']"
      ],
      "metadata": {
        "id": "8EAtvaoCHU9L"
      },
      "execution_count": null,
      "outputs": []
    },
    {
      "cell_type": "code",
      "source": [
        "# Get ROI Electrodes (Post Central & Precentral Gyrus)\n",
        "\n",
        "electrode_roi = []\n",
        "\n",
        "# Iterate for Each Subject\n",
        "for subject_index, subject in enumerate(alldat):\n",
        "\n",
        "  electrode_indexes_precentral = []\n",
        "  electrode_indexes_postcentral = []\n",
        "\n",
        "  for gyrus_index, gyrus in enumerate(subject[0]['gyrus']):\n",
        "    if gyrus == 'Precentral Gyrus':\n",
        "      electrode_indexes_precentral.append(gyrus_index)\n",
        "    elif gyrus == 'Postcentral Gyrus':\n",
        "      electrode_indexes_postcentral.append(gyrus_index)\n",
        "\n",
        "  electrode_roi.append(electrode_indexes_precentral + electrode_indexes_postcentral)\n",
        "\n",
        "  print(\"\"\"Subject {}:\\n  Precentral Gyrus: {}\\n  Postcentral Gyrus: {}\"\"\".format(subject_index, electrode_indexes_precentral,electrode_indexes_postcentral))"
      ],
      "metadata": {
        "id": "H1W9e1OP31Bc",
        "colab": {
          "base_uri": "https://localhost:8080/"
        },
        "outputId": "4fd8015e-9c95-4085-9995-170bc90f9d4e"
      },
      "execution_count": null,
      "outputs": [
        {
          "output_type": "stream",
          "name": "stdout",
          "text": [
            "Subject 0:\n",
            "  Precentral Gyrus: [5, 6, 7, 12, 20, 27, 28, 35, 36, 41, 42]\n",
            "  Postcentral Gyrus: [13, 14, 21, 29, 37, 43, 44]\n",
            "Subject 1:\n",
            "  Precentral Gyrus: [7, 14, 15, 21, 22, 29, 30, 31, 37]\n",
            "  Postcentral Gyrus: [23, 38, 39, 47]\n",
            "Subject 2:\n",
            "  Precentral Gyrus: [25, 26, 35, 36, 43, 44, 45]\n",
            "  Postcentral Gyrus: [27, 28, 29, 37, 46]\n",
            "Subject 3:\n",
            "  Precentral Gyrus: [4, 5, 11, 12, 19, 20, 28, 35, 36, 42, 43]\n",
            "  Postcentral Gyrus: [3, 18, 26, 27, 34, 41]\n",
            "Subject 4:\n",
            "  Precentral Gyrus: [7, 14, 21, 22, 23, 28, 29]\n",
            "  Postcentral Gyrus: [15, 30, 31]\n",
            "Subject 5:\n",
            "  Precentral Gyrus: [0, 1, 8, 9, 10, 18, 26, 27, 34, 35, 43, 44, 52, 53]\n",
            "  Postcentral Gyrus: [16, 17, 24, 25, 33, 42, 50, 51]\n",
            "Subject 6:\n",
            "  Precentral Gyrus: [34, 42, 43, 44, 51, 52, 60]\n",
            "  Postcentral Gyrus: [27, 28, 35, 36, 45, 53, 61, 62, 63]\n"
          ]
        }
      ]
    },
    {
      "cell_type": "code",
      "source": [
        "print(electrode_roi)\n",
        "print(electrode_roi[0])"
      ],
      "metadata": {
        "colab": {
          "base_uri": "https://localhost:8080/"
        },
        "id": "fCyx8Oo3SOM0",
        "outputId": "18b4454e-b0cb-4235-efb7-001c0355086a"
      },
      "execution_count": null,
      "outputs": [
        {
          "output_type": "stream",
          "name": "stdout",
          "text": [
            "[[5, 6, 7, 12, 20, 27, 28, 35, 36, 41, 42, 13, 14, 21, 29, 37, 43, 44], [7, 14, 15, 21, 22, 29, 30, 31, 37, 23, 38, 39, 47], [25, 26, 35, 36, 43, 44, 45, 27, 28, 29, 37, 46], [4, 5, 11, 12, 19, 20, 28, 35, 36, 42, 43, 3, 18, 26, 27, 34, 41], [7, 14, 21, 22, 23, 28, 29, 15, 30, 31], [0, 1, 8, 9, 10, 18, 26, 27, 34, 35, 43, 44, 52, 53, 16, 17, 24, 25, 33, 42, 50, 51], [34, 42, 43, 44, 51, 52, 60, 27, 28, 35, 36, 45, 53, 61, 62, 63]]\n",
            "[5, 6, 7, 12, 20, 27, 28, 35, 36, 41, 42, 13, 14, 21, 29, 37, 43, 44]\n"
          ]
        }
      ]
    },
    {
      "cell_type": "code",
      "source": [
        "# Data Prep Stuffs\n",
        "\n",
        "# TODO: Data Preprocessing Needs to Be Refined\n",
        "\n",
        "# Number of Subjects\n",
        "subject_count = alldat.shape[0]\n",
        "\n",
        "# Instantiate Empty Array for All Subjects's Tongue & Hand Epochs\n",
        "freqs = np.arange(5., 80., 2.)\n",
        "power_tongue_real = np.ones((7, 38, 2000))\n",
        "power_hand_real = np.ones((7, 38, 2000))\n",
        "power_tongue_imagery = np.ones((7, 38, 2000))\n",
        "power_hand_imagery = np.ones((7, 38, 2000))\n",
        "\n",
        "# Iterate for Each Subject\n",
        "for isub in range(7):\n",
        "  # Iterate for Each Test Block (Real & Imagery)\n",
        "  for icondi in range(2):\n",
        "    dat = alldat[isub][icondi] \n",
        "\n",
        "    # Extract Continuous Voltage Data & Assign Proper Type\n",
        "    volt_data = dat['V'].astype('float32')\n",
        "    chan_used = electrode_roi[isub]\n",
        "    volt_data = volt_data[:, chan_used]\n",
        "\n",
        "    # Multiply with Scale to Calculate uV Values\n",
        "    # volt_data = volt_data * block['scale_uv']\n",
        "\n",
        "    # 3rd Order Butterworth Filter (High-pass 1Hz)\n",
        "    b, a = signal.butter(3, [1], btype='high', fs=1000)\n",
        "    volt_data = signal.filtfilt(b, a, volt_data, 0)\n",
        "\n",
        "    # 3rd Order Butterworth Filter (Low-pass 200Hz)\n",
        "    b, a = signal.butter(3, [200], btype='low', fs=1000)\n",
        "    volt_data = signal.filtfilt(b, a, volt_data, 0)\n",
        "    # print(volt_data)\n",
        "\n",
        "    # Normalize Voltage Data\n",
        "    # volt_data = volt_data/volt_data.mean(0)\n",
        "\n",
        "    # Extract {window} ms after Stimulus Onset for All Stimulus (~60 Total), Creating Epochs-Array\n",
        "    window = 2000\n",
        "    epoch_window = np.arange(0, window)\n",
        "    epoch_timepoints = dat['t_on'][:, np.newaxis] + epoch_window\n",
        "\n",
        "    # Transpose Data to Match NME Epochs Object Input Dimension (Credits to Xianhui)\n",
        "    V_epochs_combined = volt_data[epoch_timepoints, :].transpose((0,2,1)) # epoch * chan * time\n",
        "\n",
        "    # Separate Epochs Between Tongue & Hand\n",
        "    V_epochs_tongue = (V_epochs_combined[dat['stim_id'] == 11, :, :])\n",
        "    V_epochs_hand = (V_epochs_combined[dat['stim_id'] == 12, :, :])\n",
        "    # print(V_epochs_hand)\n",
        "\n",
        "    # obtain each channels' power\n",
        "    # (n_epochs, n_chans, n_freqs, n_times)\n",
        "    power_tongue = tfr_array_morlet(V_epochs_tongue, 1000, freqs, n_cycles=2, output='power')\n",
        "    power_hand = tfr_array_morlet(V_epochs_hand, 1000, freqs, n_cycles=2, output='power')\n",
        "\n",
        "    a = np.mean(power_tongue, 0)\n",
        "    print(a.shape)\n",
        "\n",
        "    # (n_subs, n_freqs, n_times)\n",
        "    if icondi == 0:\n",
        "      power_tongue_real[isub, :, :] = np.mean(np.mean(power_tongue, 0), 0)\n",
        "      power_hand_real[isub, :, :] = np.mean(np.mean(power_hand, 0), 0)\n",
        "    else:\n",
        "      power_tongue_imagery[isub, :, :] = np.mean(np.mean(power_tongue, 0), 0)\n",
        "      power_hand_imagery[isub, :, :] = np.mean(np.mean(power_hand, 0), 0)\n",
        "          "
      ],
      "metadata": {
        "id": "4v9eK1wIEWZO",
        "colab": {
          "base_uri": "https://localhost:8080/"
        },
        "outputId": "6c49f9ef-a2ef-4a51-e30b-759ad9d63d7f"
      },
      "execution_count": 43,
      "outputs": [
        {
          "output_type": "stream",
          "name": "stdout",
          "text": [
            "(18, 38, 2000)\n",
            "(18, 38, 2000)\n",
            "(13, 38, 2000)\n",
            "(13, 38, 2000)\n",
            "(12, 38, 2000)\n",
            "(12, 38, 2000)\n",
            "(17, 38, 2000)\n",
            "(17, 38, 2000)\n",
            "(10, 38, 2000)\n",
            "(10, 38, 2000)\n",
            "(22, 38, 2000)\n",
            "(22, 38, 2000)\n",
            "(16, 38, 2000)\n",
            "(16, 38, 2000)\n"
          ]
        }
      ]
    },
    {
      "cell_type": "code",
      "source": [
        "print(power_tongue_imagery.shape)"
      ],
      "metadata": {
        "colab": {
          "base_uri": "https://localhost:8080/"
        },
        "id": "4s9ncIF7bqs8",
        "outputId": "e373b200-ebbf-419d-9cb2-c5afd4ab0df6"
      },
      "execution_count": null,
      "outputs": [
        {
          "output_type": "stream",
          "name": "stdout",
          "text": [
            "(7, 38, 2000)\n"
          ]
        }
      ]
    },
    {
      "cell_type": "code",
      "source": [
        "# grand average and plot\n",
        "power_tongue_real_all=np.mean(power_tongue_real, 0)\n",
        "power_hand_real_all=np.mean(power_hand_real, 0)\n",
        "power_tongue_imagery_all=np.mean(power_tongue_imagery, 0)\n",
        "power_hand_imagery_all=np.mean(power_hand_imagery, 0)\n",
        "\n",
        "\n",
        "f, axes = plt.subplots(2, 2)\n",
        "time_range=range(2000)\n",
        "\n",
        "ax1 = axes[0, 0]\n",
        "c1 = ax1.pcolor(time_range, freqs, power_hand_real_all, cmap='OrRd') \n",
        "ax1.set_title(\"Task: hand (actual)\")\n",
        "ax1.set_xlabel('time (ms)')\n",
        "ax1.set_ylabel('frequence (Hz)')\n",
        "f.colorbar(c1, ax=ax1) \n",
        "\n",
        "ax2 = axes[0, 1]\n",
        "c2 = ax2.pcolor(time_range, freqs,  power_tongue_real_all, cmap='OrRd') \n",
        "ax2.set_title(\"Task: tongue (actual)\")\n",
        "ax2.set_xlabel('time (ms)')\n",
        "ax2.set_ylabel('frequence (Hz)')\n",
        "f.colorbar(c2, ax=ax2) \n",
        "\n",
        "ax3 = axes[1, 0]\n",
        "c3 = ax3.pcolor(time_range, freqs, power_hand_imagery_all, cmap='OrRd') \n",
        "ax3.set_title(\"Task: hand (imagery)\")\n",
        "ax3.set_xlabel('time (ms)')\n",
        "ax3.set_ylabel('frequence (Hz)')\n",
        "f.colorbar(c3, ax=ax3) \n",
        "\n",
        "ax4 = axes[1, 1]\n",
        "c4 = ax4.pcolor(time_range, freqs,  power_tongue_imagery_all, cmap='OrRd') \n",
        "ax4.set_title(\"Task: tongue (imagery)\")\n",
        "ax4.set_xlabel('time (ms)')\n",
        "ax4.set_ylabel('frequence (Hz)')\n",
        "f.colorbar(c4, ax=ax4) \n",
        "\n",
        "plt.tight_layout()\n",
        "title = \"time frequency analysis\"\n",
        "plt.suptitle(title, x=0.5, y=1.1)\n",
        "plt.show()"
      ],
      "metadata": {
        "colab": {
          "base_uri": "https://localhost:8080/",
          "height": 337
        },
        "id": "AvCF4xKibvqg",
        "outputId": "c8ddd62a-c091-4477-f3c3-1c1c0d1cd653"
      },
      "execution_count": 48,
      "outputs": [
        {
          "output_type": "display_data",
          "data": {
            "text/plain": [
              "<Figure size 432x288 with 8 Axes>"
            ],
            "image/png": "[encoded data removed]"
          },
          "metadata": {
            "needs_background": "light"
          }
        }
      ]
    },
    {
      "cell_type": "code",
      "source": [
        "f, axes = plt.subplots(1, 2)\n",
        "time_range=range(2000)\n",
        "\n",
        "ax1 = axes[0]\n",
        "c1 = ax1.pcolor(time_range, freqs, power_hand_real_all-power_tongue_real_all, cmap='twilight') \n",
        "ax1.set_title(\"Task: diff (actual)\")\n",
        "ax1.set_xlabel('time (ms)')\n",
        "ax1.set_ylabel('frequence (Hz)')\n",
        "f.colorbar(c1, ax=ax1) \n",
        "\n",
        "ax2 = axes[1]\n",
        "c2 = ax2.pcolor(time_range, freqs,  power_hand_imagery_all-power_tongue_imagery_all, cmap='twilight') \n",
        "ax2.set_title(\"Task: diff (imagery)\")\n",
        "ax2.set_xlabel('time (ms)')\n",
        "ax2.set_ylabel('frequence (Hz)')\n",
        "f.colorbar(c2, ax=ax2) \n",
        "\n",
        "plt.tight_layout()\n",
        "title = \"time frequency analysis\"\n",
        "plt.suptitle(title, x=0.5, y=1.1)\n",
        "plt.show()"
      ],
      "metadata": {
        "colab": {
          "base_uri": "https://localhost:8080/",
          "height": 337
        },
        "id": "7whEvZwVkrFv",
        "outputId": "e9a69d65-bb0a-4ba0-8f29-8521c801ec6c"
      },
      "execution_count": 52,
      "outputs": [
        {
          "output_type": "display_data",
          "data": {
            "text/plain": [
              "<Figure size 432x288 with 4 Axes>"
            ],
            "image/png": "[encoded data removed]"
          },
          "metadata": {
            "needs_background": "light"
          }
        }
      ]
    },
    {
      "cell_type": "code",
      "source": [
        ""
      ],
      "metadata": {
        "id": "dpUFa5Aukq-k"
      },
      "execution_count": null,
      "outputs": []
    },
    {
      "cell_type": "code",
      "source": [
        ""
      ],
      "metadata": {
        "id": "L3z6DWTFkq5C"
      },
      "execution_count": null,
      "outputs": []
    }
  ]
}