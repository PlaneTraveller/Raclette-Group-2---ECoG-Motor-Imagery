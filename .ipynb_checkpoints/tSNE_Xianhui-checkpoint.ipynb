{
 "cells": [
  {
   "cell_type": "code",
   "execution_count": 2,
   "metadata": {
    "collapsed": false,
    "id": "YzF8zkOFDECo"
   },
   "outputs": [],
   "source": [
    "# @title Data retrieval\n",
    "import os, requests\n",
    "\n",
    "fname = 'motor_imagery.npz'\n",
    "url = \"https://osf.io/ksqv8/download\"\n",
    "\n",
    "if not os.path.isfile(fname):\n",
    "  try:\n",
    "    r = requests.get(url)\n",
    "  except requests.ConnectionError:\n",
    "    print(\"!!! Failed to download data !!!\")\n",
    "  else:\n",
    "    if r.status_code != requests.codes.ok:\n",
    "      print(\"!!! Failed to download data !!!\")\n",
    "    else:\n",
    "      with open(fname, \"wb\") as fid:\n",
    "        fid.write(r.content)"
   ]
  },
  {
   "cell_type": "code",
   "execution_count": 3,
   "metadata": {
    "colab": {
     "base_uri": "https://localhost:8080/"
    },
    "collapsed": false,
    "id": "k3mOreuADF-2",
    "outputId": "06a21ed5-7dc8-4738-ea2d-7dd5d0240b19"
   },
   "outputs": [],
   "source": [
    "# @title import `matplotlib` and set defaults\n",
    "# install packages to visualize brains and electrode locations\n",
    "\n",
    "from matplotlib import rcParams\n",
    "from matplotlib import pyplot as plt\n",
    "\n",
    "rcParams['figure.figsize'] = [20, 4]\n",
    "rcParams['font.size'] = 15\n",
    "rcParams['axes.spines.top'] = False\n",
    "rcParams['axes.spines.right'] = False\n",
    "rcParams['figure.autolayout'] = True"
   ]
  },
  {
   "cell_type": "code",
   "execution_count": 4,
   "metadata": {
    "colab": {
     "base_uri": "https://localhost:8080/"
    },
    "collapsed": false,
    "id": "3u-xLs15DIUo",
    "outputId": "1672ed9b-ab7b-41d1-d32c-108c07123d1a"
   },
   "outputs": [
    {
     "name": "stdout",
     "output_type": "stream",
     "text": [
      "dict_keys(['t_off', 'stim_id', 't_on', 'srate', 'V', 'scale_uv', 'locs', 'hemisphere', 'lobe', 'gyrus', 'Brodmann_Area'])\n",
      "dict_keys(['t_off', 'stim_id', 't_on', 'srate', 'V', 'scale_uv', 'locs', 'hemisphere', 'lobe', 'gyrus', 'Brodmann_Area'])\n"
     ]
    }
   ],
   "source": [
    "# @title Data loading\n",
    "import numpy as np\n",
    "\n",
    "alldat = np.load(fname, allow_pickle=True)['dat']\n",
    "\n",
    "# select just one of the recordings here. 11 is nice because it has some neurons in vis ctx.\n",
    "dat1 = alldat[0][0]\n",
    "dat2 = alldat[0][1]\n",
    "\n",
    "print(dat1.keys())\n",
    "print(dat2.keys())"
   ]
  },
  {
   "cell_type": "code",
   "execution_count": 5,
   "metadata": {
    "collapsed": false,
    "id": "2-oWVZilELBj"
   },
   "outputs": [],
   "source": [
    "# @title select channels\n",
    "electrode_indexes = []\n",
    "electrode_indexes.append([])\n",
    "electrode_indexes.append([])\n",
    "\n",
    "for subject_index, subject in enumerate(alldat):\n",
    "  electrode_indexes[0].append([])\n",
    "  electrode_indexes[1].append([])\n",
    "  for gyrus_index, gyrus in enumerate(subject[0]['gyrus']):\n",
    "    if gyrus == 'Precentral Gyrus':\n",
    "      electrode_indexes[0][subject_index].append(gyrus_index)\n",
    "    elif gyrus == 'Postcentral Gyrus':\n",
    "      electrode_indexes[1][subject_index].append(gyrus_index)"
   ]
  },
  {
   "cell_type": "code",
   "execution_count": null,
   "metadata": {
    "colab": {
     "base_uri": "https://localhost:8080/",
     "height": 997
    },
    "collapsed": false,
    "id": "H6dEnkGYFZRm",
    "outputId": "a293a9f7-8bb8-4a1e-ffdd-bf296d06dcc1"
   },
   "outputs": [],
   "source": [
    "from scipy.stats import zscore\n",
    "import matplotlib as mpl\n",
    "\n",
    "import torch\n",
    "from torch import nn, optim\n",
    "from sklearn.decomposition import PCA\n",
    "from sklearn.manifold import TSNE\n",
    "\n",
    "def get_subdata_allroi(sub_ID, condi_ID, stim_ID, band_limit):\n",
    "  from scipy import signal\n",
    "\n",
    "  dat = alldat[sub_ID][condi_ID] \n",
    "\n",
    "  ele_used = np.concatenate((electrode_indexes[0][sub_ID],electrode_indexes[1][sub_ID]), axis=0)\n",
    "  # print(ele_used)\n",
    "\n",
    "  # filter the data\n",
    "  # V is the voltage data\n",
    "  V = dat['V'].astype('float32')\n",
    "  V = V[:, ele_used]\n",
    "\n",
    "  # low-pass filter below 200 Hz\n",
    "  b, a = signal.butter(3, band_limit[1], btype='low', fs=1000)\n",
    "  V = signal.filtfilt(b, a, V, 0)\n",
    "\n",
    "  # high-pass filter above 1 Hz\n",
    "  b, a = signal.butter(3, band_limit[0], btype='high', fs=1000)\n",
    "  V = signal.filtfilt(b, a, V, 0)\n",
    "\n",
    "  # calculate the power\n",
    "  # V_tmp = signal.hilbert(V) 8-12\n",
    "  # V = np.abs(V_tmp) ** 2\n",
    "\n",
    "  # average the broadband power across all tongue and hand trials\n",
    "  nt, nchan = V.shape\n",
    "  nstim = len(dat['t_on'])\n",
    "\n",
    "  trange = np.arange(0, 2000)\n",
    "  ts = dat['t_on'][:, np.newaxis]\n",
    "\n",
    "  ts = ts + trange\n",
    "\n",
    "  V_epochs = np.reshape(V[ts, :], (nstim, 2000, nchan))\n",
    "\n",
    "  task = 12\n",
    "  if stim_ID == 0:\n",
    "    task = 11\n",
    "\n",
    "  V_epochs = (V_epochs[dat['stim_id'] == task]).mean(0)\n",
    "\n",
    "  return V_epochs\n",
    "\n",
    "\n",
    "def plot_trajectory(data, ax):\n",
    "    # plot\n",
    "    # fig, ax = plt.subplots(1, 1, figsize=(4.5, 4.5))\n",
    "\n",
    "    data_tensor = torch.from_numpy(data)\n",
    "\n",
    "    # First do PCA to reduce dimensionality to 20 dimensions so that tSNE is faster\n",
    "    resp_lowd = PCA(n_components=min(20, data_tensor.shape[1]), random_state=0).fit_transform(data_tensor)\n",
    "\n",
    "    # Then do tSNE to reduce dimensionality to 2 dimensions\n",
    "    resp_lowd = TSNE(n_components=2, random_state=0).fit_transform(data_tensor)\n",
    "    # print(resp_lowd.shape)\n",
    "    # Plot dimensionality-reduced population responses 'resp_lowd'\n",
    "    # on 2D axes, with each point colored by stimulus orientation\n",
    "    time = np.arange(0, 2000)\n",
    "    time = torch.from_numpy(time)\n",
    "    # print(time.shape)\n",
    "\n",
    "    x, y = resp_lowd[:, 0], resp_lowd[:, 1]\n",
    "    # print(resp_lowd[:, 0])\n",
    "\n",
    "    pts = ax.scatter(x, y, c=time, cmap='twilight', vmin=0, vmax=2000)\n",
    "    # plt.colorbar(pts, ticks=np.linspace(0, 2000, 1), label='time')\n",
    "\n",
    "    ax.set_title(\"Task: %s (%s)\" % (task_name[istim], condi_name[icondi]))\n",
    "    ax.set_xlabel('Dimension 1')\n",
    "    ax.set_ylabel('Dimension 2')\n",
    "    ax.set_xticks([])\n",
    "    ax.set_yticks([])\n",
    "\n",
    "    return pts\n",
    "\n",
    "# basic setting\n",
    "band_limit = [50, 200]\n",
    "condi_name = ['actual', 'imagery']\n",
    "task_name = ['hand', 'tongue']\n",
    "plt.figure(figsize=(9, 9))\n",
    "fig, axes = plt.subplots(2, 2, figsize=(9,9))\n",
    "\n",
    "for icondi in range(2):\n",
    "  for istim in range(2):\n",
    "    data = np.empty((2000,0),int)\n",
    "\n",
    "    # get data of all subj\n",
    "    for isub in range(7):\n",
    "      data_sub = get_subdata_allroi(isub, icondi, istim, band_limit)\n",
    "      #print(data_sub.shape)\n",
    "      data = np.hstack((data, data_sub))\n",
    "      #print(data.shape)\n",
    "    \n",
    "    # ax = plt.subplot(2, 2, icondi * 2 + istim + 1)\n",
    "    ax = axes[icondi][istim]\n",
    "    pts = plot_trajectory(data, ax)\n",
    "\n",
    "# fig.subplots_adjust(right = 0.9)\n",
    "\n",
    "# colorbar\n",
    "l=1.02\n",
    "b=0.12\n",
    "w=0.015\n",
    "h=1-2*b\n",
    "\n",
    "rect = [l,b,w,h]\n",
    "cbar_ax = fig.add_axes(rect) \n",
    "cb = plt.colorbar(pts, cax = cbar_ax, ticks=np.linspace(0, 2000, 1), label='time')\n",
    "plt.show()\n",
    "\n"
   ]
  },
  {
   "cell_type": "code",
   "execution_count": 0,
   "metadata": {
    "collapsed": false
   },
   "outputs": [],
   "source": []
  },
  {
   "cell_type": "code",
   "execution_count": null,
   "metadata": {
    "collapsed": false
   },
   "outputs": [],
   "source": []
  },
  {
   "cell_type": "code",
   "execution_count": null,
   "metadata": {
    "collapsed": false
   },
   "outputs": [],
   "source": []
  },
  {
   "cell_type": "code",
   "execution_count": null,
   "metadata": {
    "collapsed": false
   },
   "outputs": [],
   "source": []
  },
  {
   "cell_type": "code",
   "execution_count": null,
   "metadata": {
    "collapsed": false
   },
   "outputs": [],
   "source": []
  },
  {
   "cell_type": "code",
   "execution_count": null,
   "metadata": {
    "collapsed": false
   },
   "outputs": [],
   "source": []
  }
 ],
 "metadata": {
  "colab": {
   "name": "tSNE_Xianhui.ipynb",
   "provenance": []
  },
  "kernelspec": {
   "argv": [
    "/Users/wanghuayu/opt/anaconda3/bin/python",
    "-m",
    "ipykernel_launcher",
    "-f",
    "{connection_file}"
   ],
   "display_name": "Python 3 (ipykernel)",
   "env": null,
   "interrupt_mode": "signal",
   "language": "python",
   "metadata": {
    "debugger": true
   },
   "name": "python3"
  },
  "language_info": {
   "name": "python"
  },
  "name": "tSNE_Xianhui.ipynb"
 },
 "nbformat": 4,
 "nbformat_minor": 0
}
