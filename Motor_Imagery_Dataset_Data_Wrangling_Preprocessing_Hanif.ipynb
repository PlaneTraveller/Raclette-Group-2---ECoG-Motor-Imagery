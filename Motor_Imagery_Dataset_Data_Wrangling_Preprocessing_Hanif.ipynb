{
  "nbformat": 4,
  "nbformat_minor": 0,
  "metadata": {
    "colab": {
      "name": "Motor Imagery Dataset - Data Wrangling / Preprocessing (Messing Around)",
      "provenance": [],
      "collapsed_sections": [],
      "authorship_tag": "ABX9TyMcNiokPBVCJPQ6aY+r7udJ",
      "include_colab_link": true
    },
    "kernelspec": {
      "name": "python3",
      "display_name": "Python 3"
    },
    "language_info": {
      "name": "python"
    }
  },
  "cells": [
    {
      "cell_type": "markdown",
      "metadata": {
        "id": "view-in-github",
        "colab_type": "text"
      },
      "source": [
        "<a href=\"https://colab.research.google.com/github/Xianhui-He/Raclette-Group-2-ECoG-Motor-Imagery/blob/main/Motor_Imagery_Dataset_Data_Wrangling_Preprocessing_Hanif.ipynb\" target=\"_parent\"><img src=\"https://colab.research.google.com/assets/colab-badge.svg\" alt=\"Open In Colab\"/></a>"
      ]
    },
    {
      "cell_type": "code",
      "source": [
        "# Boring S\n",
        "\n",
        "import os, requests\n",
        "\n",
        "fname = 'motor_imagery.npz'\n",
        "url = \"https://osf.io/ksqv8/download\"\n",
        "\n",
        "if not os.path.isfile(fname):\n",
        "  try:\n",
        "    r = requests.get(url)\n",
        "  except requests.ConnectionError:\n",
        "    print(\"!!! Failed to download data !!!\")\n",
        "  else:\n",
        "    if r.status_code != requests.codes.ok:\n",
        "      print(\"!!! Failed to download data !!!\")\n",
        "    else:\n",
        "      with open(fname, \"wb\") as fid:\n",
        "        fid.write(r.content)"
      ],
      "metadata": {
        "id": "78yWg6jAFg5O"
      },
      "execution_count": 1,
      "outputs": []
    },
    {
      "cell_type": "code",
      "source": [
        "# install packages to visualize brains and electrode locations\n",
        "!pip install nilearn --quiet\n",
        "!pip install nimare --quiet\n",
        "!pip install duecredit --quiet\n",
        "!pip install mne --quiet\n"
      ],
      "metadata": {
        "id": "4FkPd4nHHKsH",
        "colab": {
          "base_uri": "https://localhost:8080/"
        },
        "outputId": "e0692be2-4aa4-4ac1-ba45-40b9fbe6dc71"
      },
      "execution_count": 2,
      "outputs": [
        {
          "output_type": "stream",
          "name": "stdout",
          "text": [
            "\u001b[K     |████████████████████████████████| 9.6 MB 1.4 MB/s \n",
            "\u001b[K     |████████████████████████████████| 13.3 MB 5.0 MB/s \n",
            "\u001b[K     |████████████████████████████████| 3.2 MB 46.1 MB/s \n",
            "\u001b[?25h  Building wheel for cognitiveatlas (setup.py) ... \u001b[?25l\u001b[?25hdone\n",
            "\u001b[K     |████████████████████████████████| 86 kB 2.7 MB/s \n",
            "\u001b[K     |████████████████████████████████| 179 kB 32.3 MB/s \n",
            "\u001b[K     |████████████████████████████████| 7.5 MB 5.2 MB/s \n",
            "\u001b[?25h"
          ]
        }
      ]
    },
    {
      "cell_type": "code",
      "execution_count": 3,
      "metadata": {
        "id": "WOOcJLiJEBm3"
      },
      "outputs": [],
      "source": [
        "# Import Stuffs\n",
        "import numpy as np\n",
        "from matplotlib import pyplot as plt\n",
        "from scipy import signal\n",
        "\n",
        "import mne\n",
        "from mne import create_info, EpochsArray\n",
        "from mne.io import RawArray\n",
        "from mne.baseline import rescale\n",
        "from mne.time_frequency import (tfr_multitaper, tfr_stockwell, tfr_morlet,\n",
        "                                tfr_array_morlet)\n",
        "from mne.viz import centers_to_edges\n",
        "\n",
        "from matplotlib import rcParams\n",
        "from matplotlib import pyplot as plt"
      ]
    },
    {
      "cell_type": "code",
      "source": [
        "# Load Dataset\n",
        "\n",
        "alldat = np.load(fname, allow_pickle=True)['dat']"
      ],
      "metadata": {
        "id": "8EAtvaoCHU9L"
      },
      "execution_count": 4,
      "outputs": []
    },
    {
      "cell_type": "code",
      "source": [
        "# Get ROI Electrodes\n",
        "\n",
        "electrode_precentral = []\n",
        "electrode_postcentral = []\n",
        "\n",
        "for subject_index, subject in enumerate(alldat):\n",
        "\n",
        "  electrode_indexes_precentral = []\n",
        "  electrode_indexes_postcentral = []\n",
        "\n",
        "  for gyrus_index, gyrus in enumerate(subject[0]['gyrus']):\n",
        "    if gyrus == 'Precentral Gyrus':\n",
        "      gyrus = 'Precentral Gyrus'\n",
        "      electrode_indexes_precentral.append(gyrus_index)\n",
        "      electrode_precentral.append(electrode_indexes_precentral)\n",
        "    elif gyrus == 'Postcentral Gyrus':\n",
        "      gyrus = 'Precentral Gyrus'\n",
        "      electrode_indexes_postcentral.append(gyrus_index)\n",
        "      electrode_postcentral.append(electrode_indexes_postcentral)\n",
        "\n",
        "  print(\"\"\"Subject {}:\\n  Precentral Gyrus: {}\\n  Postcentral Gyrus: {}\"\"\".format(subject_index, electrode_indexes_precentral,electrode_indexes_postcentral))"
      ],
      "metadata": {
        "colab": {
          "base_uri": "https://localhost:8080/"
        },
        "id": "H1W9e1OP31Bc",
        "outputId": "e11b4d48-8f61-4724-ad7d-5ef0a8337708"
      },
      "execution_count": 5,
      "outputs": [
        {
          "output_type": "stream",
          "name": "stdout",
          "text": [
            "Subject 0:\n",
            "  Precentral Gyrus: [5, 6, 7, 12, 20, 27, 28, 35, 36, 41, 42]\n",
            "  Postcentral Gyrus: [13, 14, 21, 29, 37, 43, 44]\n",
            "Subject 1:\n",
            "  Precentral Gyrus: [7, 14, 15, 21, 22, 29, 30, 31, 37]\n",
            "  Postcentral Gyrus: [23, 38, 39, 47]\n",
            "Subject 2:\n",
            "  Precentral Gyrus: [25, 26, 35, 36, 43, 44, 45]\n",
            "  Postcentral Gyrus: [27, 28, 29, 37, 46]\n",
            "Subject 3:\n",
            "  Precentral Gyrus: [4, 5, 11, 12, 19, 20, 28, 35, 36, 42, 43]\n",
            "  Postcentral Gyrus: [3, 18, 26, 27, 34, 41]\n",
            "Subject 4:\n",
            "  Precentral Gyrus: [7, 14, 21, 22, 23, 28, 29]\n",
            "  Postcentral Gyrus: [15, 30, 31]\n",
            "Subject 5:\n",
            "  Precentral Gyrus: [0, 1, 8, 9, 10, 18, 26, 27, 34, 35, 43, 44, 52, 53]\n",
            "  Postcentral Gyrus: [16, 17, 24, 25, 33, 42, 50, 51]\n",
            "Subject 6:\n",
            "  Precentral Gyrus: [34, 42, 43, 44, 51, 52, 60]\n",
            "  Postcentral Gyrus: [27, 28, 35, 36, 45, 53, 61, 62, 63]\n"
          ]
        }
      ]
    },
    {
      "cell_type": "code",
      "source": [
        "# Prep Stuffs\n",
        "\n",
        "# Number of Subjects\n",
        "subject_count = alldat.shape[0]\n",
        "\n",
        "# Instantiate Empty Array for All Subjects's Tongue & Hand Epochs\n",
        "tongue_epochs_real = []\n",
        "tongue_epochs_imagery = [] \n",
        "hand_epochs_real = []\n",
        "hand_epochs_imagery = []\n",
        "\n",
        "# Iterate for Each Subject\n",
        "for subject in alldat:\n",
        "\n",
        "  # Iterate for Each Test Block (Real & Imagery)\n",
        "  for index, block in enumerate(subject):\n",
        "\n",
        "    # Get Timepoints Count, Channel Counts, Sampling Rate & (Total) Stimulus Counts\n",
        "    time_samples, channels = block['V'].shape\n",
        "    sampling_freq = block['srate']\n",
        "    n_stimulus = len(block['t_on'])\n",
        "\n",
        "    # Generate MNE Info Object Based on Previous Code (Unused for Now)\n",
        "    block_info = create_info(ch_names=channels, sfreq=sampling_freq, ch_types='ecog')\n",
        "\n",
        "    # Extract Continuous Voltage Data & Assign Proper Type\n",
        "    volt_data = block['V'].astype('float32')\n",
        "\n",
        "    # Multiply with Scale to Calculate uV Values\n",
        "    volt_data = volt_data * block['scale_uv']\n",
        "\n",
        "    # 3rd Order Butterworth Filter (High-pass 50Hz)\n",
        "    b, a = signal.butter(3, [50], btype='high', fs=1000)\n",
        "    volt_data = signal.filtfilt(b, a, volt_data, 0)\n",
        "\n",
        "    # Extract {window} ms after Stimulus Onset for All Stimulus (~60 Total), Creating Epochs-Array\n",
        "    window = 2000\n",
        "    epoch_window = np.arange(0, window)\n",
        "    epoch_timepoints = block['t_on'][:, np.newaxis] + epoch_window\n",
        "\n",
        "    # Transpose Data to Match NME Epochs Object Input Dimension (Credits to Xianhui)\n",
        "    V_epochs_combined = volt_data[epoch_timepoints, :].transpose((0,2,1))\n",
        "\n",
        "    # Separate Epochs Between Tongue & Hand\n",
        "    V_epochs_tongue = (V_epochs_combined[block['stim_id'] == 11, :, :])\n",
        "    V_epochs_hand = (V_epochs_combined[block['stim_id'] == 12, :, :])\n",
        "\n",
        "    # Generate MNE Epochs Object & Append to All Subjects Tongue & Hand Epochs Array\n",
        "    if index == 0:\n",
        "      tongue_epochs_real.append(mne.EpochsArray(data=V_epochs_tongue, info=block_info, verbose='WARNING'))\n",
        "      hand_epochs_real.append(mne.EpochsArray(data=V_epochs_hand, info=block_info, verbose='WARNING'))\n",
        "    else:\n",
        "      tongue_epochs_imagery.append(mne.EpochsArray(data=V_epochs_tongue, info=block_info, verbose='WARNING'))\n",
        "      hand_epochs_imagery.append(mne.EpochsArray(data=V_epochs_hand, info=block_info, verbose='WARNING'))\n",
        "          "
      ],
      "metadata": {
        "id": "4v9eK1wIEWZO"
      },
      "execution_count": 128,
      "outputs": []
    },
    {
      "cell_type": "code",
      "source": [
        "tongue = tongue_epochs_real[0].average()\n",
        "tongue.plot(picks=(2,3));"
      ],
      "metadata": {
        "colab": {
          "base_uri": "https://localhost:8080/",
          "height": 215
        },
        "id": "9Nvyjpv5Y05b",
        "outputId": "86c9e6c9-e524-4c11-d3f9-6b10065e3e11"
      },
      "execution_count": 132,
      "outputs": [
        {
          "output_type": "display_data",
          "data": {
            "text/plain": [
              "<Figure size 460.8x216 with 1 Axes>"
            ],
            "image/png": "[encoded data removed]"
          },
          "metadata": {
            "needs_background": "light"
          }
        }
      ]
    },
    {
      "cell_type": "code",
      "source": [
        "#@title Deprecated Codes\n",
        "\n",
        "# Plot ROI Channels (Deprecated)\n",
        "\n",
        "rcParams['figure.figsize'] = [20, 4]\n",
        "rcParams['font.size'] = 15\n",
        "rcParams['axes.spines.top'] = False\n",
        "rcParams['axes.spines.right'] = False\n",
        "rcParams['figure.autolayout'] = True\n",
        "\n",
        "for subject, _ in enumerate(tongue_epochs_real):\n",
        "  \n",
        "  roi_channels = electrode_postcentral[subject] + electrode_precentral[subject]\n",
        "\n",
        "  V_tongue = tongue_epochs_real[subject].mean(0)\n",
        "  V_hand = hand_epochs_real[subject].mean(0)\n",
        "\n",
        "  print(\"Subject {}\".format(subject))\n",
        "  plt.figure(figsize=(20, 10))\n",
        "  for index, channel in enumerate(roi_channels):\n",
        "    ax = plt.subplot(5, 6, index+1)\n",
        "    plt.plot(epoch_window, V_tongue[channel, :])\n",
        "    plt.plot(epoch_window, V_hand[channel, :])\n",
        "    plt.title('ch%d'%channel)\n",
        "    plt.xticks([0, 1000, 2000])\n",
        "    plt.ylim([0, 4])\n",
        "  plt.show()"
      ],
      "metadata": {
        "id": "OO_SP6FZD6VU",
        "cellView": "form"
      },
      "execution_count": null,
      "outputs": []
    }
  ]
}