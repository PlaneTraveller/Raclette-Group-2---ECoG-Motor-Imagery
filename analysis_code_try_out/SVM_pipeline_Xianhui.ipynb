{
  "nbformat": 4,
  "nbformat_minor": 0,
  "metadata": {
    "colab": {
      "name": "SVM_pipeline_Xianhui.ipynb",
      "provenance": [],
      "collapsed_sections": []
    },
    "kernelspec": {
      "name": "python3",
      "display_name": "Python 3"
    },
    "language_info": {
      "name": "python"
    }
  },
  "cells": [
    {
      "cell_type": "code",
      "source": [
        "# @title Data retrieval\n",
        "import os, requests\n",
        "\n",
        "fname = 'motor_imagery.npz'\n",
        "url = \"https://osf.io/ksqv8/download\"\n",
        "\n",
        "if not os.path.isfile(fname):\n",
        "  try:\n",
        "    r = requests.get(url)\n",
        "  except requests.ConnectionError:\n",
        "    print(\"!!! Failed to download data !!!\")\n",
        "  else:\n",
        "    if r.status_code != requests.codes.ok:\n",
        "      print(\"!!! Failed to download data !!!\")\n",
        "    else:\n",
        "      with open(fname, \"wb\") as fid:\n",
        "        fid.write(r.content)"
      ],
      "metadata": {
        "cellView": "form",
        "id": "CGcaWWzB_Y7M"
      },
      "execution_count": 1,
      "outputs": []
    },
    {
      "cell_type": "code",
      "source": [
        "# @title import `matplotlib` `sklearn` and set defaults\n",
        "# install packages to visualize brains and electrode locations\n",
        "\n",
        "from matplotlib import rcParams\n",
        "from matplotlib import pyplot as plt\n",
        "import sklearn\n",
        "from sklearn.model_selection import cross_val_score\n",
        "from sklearn import svm\n",
        "\n",
        "rcParams['figure.figsize'] = [20, 4]\n",
        "rcParams['font.size'] = 15\n",
        "rcParams['axes.spines.top'] = False\n",
        "rcParams['axes.spines.right'] = False\n",
        "rcParams['figure.autolayout'] = True"
      ],
      "metadata": {
        "cellView": "form",
        "id": "4Zy1bYsD_aFH"
      },
      "execution_count": 48,
      "outputs": []
    },
    {
      "cell_type": "markdown",
      "source": [
        "## SVM pipeline"
      ],
      "metadata": {
        "id": "81ylaKVmWK5m"
      }
    },
    {
      "cell_type": "code",
      "execution_count": 49,
      "metadata": {
        "colab": {
          "base_uri": "https://localhost:8080/"
        },
        "cellView": "form",
        "id": "zUKxvog4WIVV",
        "outputId": "929dcb25-d3d6-489b-fb31-e658118857bd"
      },
      "outputs": [
        {
          "output_type": "stream",
          "name": "stdout",
          "text": [
            "dict_keys(['t_off', 'stim_id', 't_on', 'srate', 'V', 'scale_uv', 'locs', 'hemisphere', 'lobe', 'gyrus', 'Brodmann_Area'])\n"
          ]
        }
      ],
      "source": [
        "# @title Data loading\n",
        "import numpy as np\n",
        "\n",
        "alldat = np.load(fname, allow_pickle=True)['dat']\n",
        "\n",
        "print(alldat[1][0].keys())"
      ]
    },
    {
      "cell_type": "code",
      "source": [
        "# @title select channels\n",
        "electrode_indexes = []\n",
        "electrode_indexes.append([])\n",
        "electrode_indexes.append([])\n",
        "\n",
        "for subject_index, subject in enumerate(alldat):\n",
        "  electrode_indexes[0].append([])\n",
        "  electrode_indexes[1].append([])\n",
        "  for gyrus_index, gyrus in enumerate(subject[0]['gyrus']):\n",
        "    if gyrus == 'Precentral Gyrus':\n",
        "      electrode_indexes[0][subject_index].append(gyrus_index)\n",
        "    elif gyrus == 'Postcentral Gyrus':\n",
        "      electrode_indexes[1][subject_index].append(gyrus_index)"
      ],
      "metadata": {
        "id": "IwFZ72IyAqTe"
      },
      "execution_count": 50,
      "outputs": []
    },
    {
      "cell_type": "code",
      "source": [
        "def get_data_label(sub_ID, roi_ID, condi_ID, time_ID):\n",
        "  from scipy import signal\n",
        "\n",
        "  dat = alldat[sub_ID][condi_ID] \n",
        "\n",
        "  ele_used = electrode_indexes[roi_ID][sub_ID]\n",
        "\n",
        "  # filter the data\n",
        "  # V is the voltage data\n",
        "  V = dat['V'].astype('float32')\n",
        "  V = V[:, ele_used]\n",
        "\n",
        "  # low-pass filter below 200 Hz\n",
        "  b, a = signal.butter(3, [200], btype='low', fs=1000)\n",
        "  V = signal.filtfilt(b, a, V, 0)\n",
        "\n",
        "  # high-pass filter above 1 Hz\n",
        "  b, a = signal.butter(3, [1], btype='high', fs=1000)\n",
        "  V = signal.filtfilt(b, a, V, 0)\n",
        "\n",
        "  # average the broadband power across all tongue and hand trials\n",
        "  nt, nchan = V.shape\n",
        "  nstim = len(dat['t_on'])\n",
        "\n",
        "  trange = np.arange(0, 2000)\n",
        "  ts = dat['t_on'][:, np.newaxis]\n",
        "\n",
        "  ts = ts + trange\n",
        "\n",
        "  V_epochs = np.reshape(V[ts, :], (nstim, 2000, nchan))\n",
        "\n",
        "  data = V_epochs[:][:, time_ID][:]\n",
        "  label = dat['stim_id']\n",
        "\n",
        "  return data, label\n"
      ],
      "metadata": {
        "id": "2YfpJJLvAUKN"
      },
      "execution_count": 51,
      "outputs": []
    },
    {
      "cell_type": "code",
      "source": [
        "# split data\n",
        "\n",
        "# for example sub\n",
        "# sub_ID : 0-6\n",
        "# roi_ID : 0 precentral area; 1 postcentral area\n",
        "# condi_ID : 0 actual; 1 imagery\n",
        "# time_ID : 0-1999 time points, each time point can be used to train a classifier\n",
        "\n",
        "data, label = get_data_label(sub_ID = 0, roi_ID = 0, condi_ID = 0, time_ID = 0)\n",
        "\n",
        "train_data, test_data, train_label, test_label = sklearn.model_selection.train_test_split(data, label, test_size = 0.25)\n",
        "\n",
        "# train the svm model\n",
        "\n",
        "classifier = svm.SVC(C = 1, kernel = 'rbf', gamma = 10,  decision_function_shape = 'ovr')\n",
        "classifier.fit(train_data, train_label)\n",
        "\n",
        "print(\"training score: \", classifier.score(train_data, train_label))\n",
        "# print(\"test score: \", classifier.score(test_data, test_label))\n",
        "\n",
        "accuracies = cross_val_score(classifier, train_data, train_label, cv=8)  # k=8 cross validation\n"
      ],
      "metadata": {
        "colab": {
          "base_uri": "https://localhost:8080/"
        },
        "id": "d0RLVCTaWe9t",
        "outputId": "07d926fe-5619-4d34-ecf3-9e31542504d5"
      },
      "execution_count": 52,
      "outputs": [
        {
          "output_type": "stream",
          "name": "stdout",
          "text": [
            "training score:  1.0\n"
          ]
        }
      ]
    },
    {
      "cell_type": "code",
      "source": [
        "#@title\n",
        "#@markdown Run to plot out these `k=8` accuracy scores.\n",
        "f, ax = plt.subplots(figsize=(8, 3))\n",
        "ax.boxplot(accuracies, vert=False, widths=.7)\n",
        "ax.scatter(accuracies, np.ones(8))\n",
        "ax.set(\n",
        "  xlabel=\"Accuracy\",\n",
        "  yticks=[],\n",
        "  title=f\"Average test accuracy: {accuracies.mean():.2%}\"\n",
        ")\n",
        "ax.spines[\"left\"].set_visible(False)"
      ],
      "metadata": {
        "colab": {
          "base_uri": "https://localhost:8080/",
          "height": 215
        },
        "id": "Sx5r-Ob4WedR",
        "outputId": "18fdfa94-5e21-417b-d46a-de457bfed2bf"
      },
      "execution_count": 53,
      "outputs": [
        {
          "output_type": "display_data",
          "data": {
            "text/plain": [
              "<Figure size 576x216 with 1 Axes>"
            ],
            "image/png": "[encoded data removed]"
          },
          "metadata": {
            "needs_background": "light"
          }
        }
      ]
    },
    {
      "cell_type": "code",
      "source": [
        "# generalization\n",
        "# train motor, generalization to imagery\n",
        "gen_data, gen_label = get_data_label(sub_ID = 0, roi_ID  = 0, condi_ID = 1, time_ID = 0)\n",
        "\n",
        "\n",
        "print(\"generalization score: \", classifier.score(gen_data, gen_label))"
      ],
      "metadata": {
        "colab": {
          "base_uri": "https://localhost:8080/"
        },
        "id": "7ualJScwIVrJ",
        "outputId": "319b7d7d-768e-42c8-f395-6ebd3cb2a1cb"
      },
      "execution_count": 54,
      "outputs": [
        {
          "output_type": "stream",
          "name": "stdout",
          "text": [
            "generalization score:  0.5\n"
          ]
        }
      ]
    }
  ]
}